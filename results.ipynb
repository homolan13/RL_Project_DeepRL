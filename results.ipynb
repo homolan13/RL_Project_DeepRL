{
 "cells": [
  {
   "cell_type": "markdown",
   "metadata": {},
   "source": [
    "## Bolus Glucose Control in Type 1 Diabetes Using Deep Reinforcement Learning\n",
    "### Results\n",
    "Raphael Joost, 18-109-504 & Yanis Schärer, 18-114-058"
   ]
  },
  {
   "cell_type": "code",
   "execution_count": null,
   "metadata": {},
   "outputs": [],
   "source": [
    "from Agent import DDPGAgent\n",
    "from utils import make_env\n",
    "import json\n",
    "import os\n",
    "import numpy as np\n",
    "import matplotlib.pyplot as plt\n",
    "import random\n",
    "from tqdm import tqdm"
   ]
  },
  {
   "cell_type": "markdown",
   "metadata": {},
   "source": [
    "#### Explore Environment"
   ]
  },
  {
   "cell_type": "code",
   "execution_count": null,
   "metadata": {},
   "outputs": [],
   "source": [
    "# Create environment\n",
    "ado_avg = make_env('simglucose_average', 'average_adolescent')"
   ]
  },
  {
   "cell_type": "code",
   "execution_count": null,
   "metadata": {},
   "outputs": [],
   "source": [
    "sample_observation, sample_info = ado_avg.reset() # Reset environment and get initial observation\n",
    "sample_action = ado_avg.action_space.sample() # Sample a random action\n",
    "\n",
    "print('Environment info:\\n', sample_info, '\\n')\n",
    "print('Observation (flattened):\\n', sample_observation, '\\n')\n",
    "print('Action:\\n', sample_action, '\\n')"
   ]
  },
  {
   "cell_type": "markdown",
   "metadata": {},
   "source": [
    "#### Results for adolescent patients\n",
    "Training is done on UBELIX. Therefore, the agent state is directly loaded from the respective files."
   ]
  },
  {
   "cell_type": "code",
   "execution_count": null,
   "metadata": {},
   "outputs": [],
   "source": [
    "ado1 = make_env('simglucose_ado01', 'adolescent#001', print_space=False)\n",
    "ado_agent = DDPGAgent(ado1)"
   ]
  },
  {
   "cell_type": "code",
   "execution_count": null,
   "metadata": {},
   "outputs": [],
   "source": [
    "ado_g_path = os.path.join('agent_states','adolescent_general_training_state')\n",
    "ado_p_path = os.path.join('agent_states','adolescent_personalized_training_state')"
   ]
  },
  {
   "cell_type": "markdown",
   "metadata": {},
   "source": [
    "##### After general training"
   ]
  },
  {
   "cell_type": "code",
   "execution_count": null,
   "metadata": {},
   "outputs": [],
   "source": [
    "# Plot general training loss\n",
    "with open(os.path.join(ado_g_path,'training_loss.json')) as f:\n",
    "    ado_g_loss = json.load(f)\n",
    "\n",
    "plt.plot([losses[0] for losses in ado_g_loss])\n",
    "plt.title('Critic Training Loss (Adolescent/General)')\n",
    "plt.xlabel('Iterations')\n",
    "plt.ylabel('Loss')\n",
    "plt.show()"
   ]
  },
  {
   "cell_type": "code",
   "execution_count": null,
   "metadata": {},
   "outputs": [],
   "source": [
    "ado_agent.load_agent(ado_g_path)"
   ]
  },
  {
   "cell_type": "code",
   "execution_count": null,
   "metadata": {},
   "outputs": [],
   "source": [
    "ado_g_metrics = ado_agent.evaluate_policy(render=True) # Evaluate policy on adolescent#001 (4 day sample)"
   ]
  },
  {
   "cell_type": "code",
   "execution_count": null,
   "metadata": {},
   "outputs": [],
   "source": [
    "print(f'Time in range (TIR): {ado_g_metrics[\"TIR\"]:.2f}')\n",
    "print(f'Time in hypoglycemic risk: {ado_g_metrics[\"hypo\"]:.2f}')"
   ]
  },
  {
   "cell_type": "code",
   "execution_count": null,
   "metadata": {},
   "outputs": [],
   "source": [
    "# Import metrics from ubelix\n",
    "with open(os.path.join('evaluation', 'metrics', 'ado_g_metrics.json')) as f:\n",
    "    ado_g_metrics = json.load(f)\n",
    "\n",
    "# Calculate survival rate\n",
    "ado_g_isalive = [m['is_alive'] for m in ado_g_metrics]\n",
    "print(f'{sum(ado_g_isalive)}/{len(ado_g_isalive)} patients survived.')\n",
    "\n",
    "# Calculate TIR\n",
    "ado_g_tir = [m['TIR'] for m in ado_g_metrics]\n",
    "print(f'TIR: {np.mean(ado_g_tir):.2f} +/- {np.std(ado_g_tir):.2f}')\n",
    "\n",
    "# Calculate hypo\n",
    "ado_g_hypo = [m['hypo'] for m in ado_g_metrics]\n",
    "print(f'Hypo: {np.mean(ado_g_hypo):.2f} +/- {np.std(ado_g_hypo):.2f}')"
   ]
  },
  {
   "cell_type": "markdown",
   "metadata": {},
   "source": [
    "##### After personalized training"
   ]
  },
  {
   "cell_type": "code",
   "execution_count": null,
   "metadata": {},
   "outputs": [],
   "source": [
    "# Plot personalized training loss\n",
    "with open(os.path.join(ado_g_path,'training_loss.json')) as f:\n",
    "    ado_g_loss = json.load(f)\n",
    "\n",
    "plt.plot([losses[0] for losses in ado_g_loss])\n",
    "plt.title('Critic Training Loss (Adolescent/Personalized)')\n",
    "plt.xlabel('Iterations')\n",
    "plt.ylabel('Loss')\n",
    "plt.show()"
   ]
  },
  {
   "cell_type": "code",
   "execution_count": null,
   "metadata": {},
   "outputs": [],
   "source": [
    "ado_agent.load_agent(ado_p_path)"
   ]
  },
  {
   "cell_type": "code",
   "execution_count": null,
   "metadata": {},
   "outputs": [],
   "source": [
    "ado_p_metrics = ado_agent.evaluate_policy(render=True) # Evaluate policy on adolescent#001 (4 day sample)"
   ]
  },
  {
   "cell_type": "code",
   "execution_count": null,
   "metadata": {},
   "outputs": [],
   "source": [
    "print(f'Time in range (TIR): {ado_p_metrics[\"TIR\"]:.2f}')\n",
    "print(f'Time in hypoglycemic risk: {ado_p_metrics[\"hypo\"]:.2f}')"
   ]
  },
  {
   "cell_type": "code",
   "execution_count": null,
   "metadata": {},
   "outputs": [],
   "source": [
    "# Import metrics from ubelix\n",
    "with open(os.path.join('evaluation', 'metrics', 'ado_p_metrics.json')) as f:\n",
    "    ado_p_metrics = json.load(f)\n",
    "\n",
    "# Calculate survival rate\n",
    "ado_p_isalive = [m['is_alive'] for m in ado_p_metrics]\n",
    "print(f'{sum(ado_p_isalive)}/{len(ado_p_isalive)} patients survived.')\n",
    "\n",
    "# Calculate TIR\n",
    "ado_p_tir = [m['TIR'] for m in ado_p_metrics]\n",
    "print(f'TIR: {np.mean(ado_p_tir):.2f} +/- {np.std(ado_p_tir):.2f}')\n",
    "\n",
    "# Calculate hypo\n",
    "ado_p_hypo = [m['hypo'] for m in ado_p_metrics]\n",
    "print(f'Hypo: {np.mean(ado_p_hypo):.2f} +/- {np.std(ado_p_hypo):.2f}')"
   ]
  },
  {
   "cell_type": "markdown",
   "metadata": {},
   "source": [
    "#### Results for adult patients\n",
    "Training is done on UBELIX. Therefore, the agent state is directly loaded from the respective files."
   ]
  },
  {
   "cell_type": "code",
   "execution_count": null,
   "metadata": {},
   "outputs": [],
   "source": [
    "adu1 = make_env('simglucose_adu01', 'adult#001', print_space=False)\n",
    "adu_agent = DDPGAgent(adu1)"
   ]
  },
  {
   "cell_type": "code",
   "execution_count": null,
   "metadata": {},
   "outputs": [],
   "source": [
    "adu_g_path = os.path.join('agent_states','adult_general_training_state')\n",
    "adu_p_path = os.path.join('agent_states','adult_personalized_training_state')"
   ]
  },
  {
   "cell_type": "markdown",
   "metadata": {},
   "source": [
    "##### After general training"
   ]
  },
  {
   "cell_type": "code",
   "execution_count": null,
   "metadata": {},
   "outputs": [],
   "source": [
    "# Plot general training loss\n",
    "with open(os.path.join(adu_g_path,'training_loss.json')) as f:\n",
    "    adu_g_loss = json.load(f)\n",
    "\n",
    "plt.plot([losses[0] for losses in adu_g_loss])\n",
    "plt.title('Critic Training Loss (Adult/General)')\n",
    "plt.xlabel('Iterations')\n",
    "plt.ylabel('Loss')\n",
    "plt.show()"
   ]
  },
  {
   "cell_type": "code",
   "execution_count": null,
   "metadata": {},
   "outputs": [],
   "source": [
    "adu_agent.load_agent(adu_g_path)"
   ]
  },
  {
   "cell_type": "code",
   "execution_count": null,
   "metadata": {},
   "outputs": [],
   "source": [
    "adu_g_metrics = adu_agent.evaluate_policy(render=True) # Evaluate policy on adult#001 (4 day sample)"
   ]
  },
  {
   "cell_type": "code",
   "execution_count": null,
   "metadata": {},
   "outputs": [],
   "source": [
    "print(f'Time in range (TIR): {adu_g_metrics[\"TIR\"]:.2f}')\n",
    "print(f'Time in hypoglycemic risk: {adu_g_metrics[\"hypo\"]:.2f}')"
   ]
  },
  {
   "cell_type": "code",
   "execution_count": null,
   "metadata": {},
   "outputs": [],
   "source": [
    "# Import metrics from ubelix\n",
    "with open(os.path.join('evaluation', 'metrics', 'adu_g_metrics.json')) as f:\n",
    "    adu_g_metrics = json.load(f)\n",
    "\n",
    "# Calculate survival rate\n",
    "adu_g_isalive = [m['is_alive'] for m in ado_g_metrics]\n",
    "print(f'{sum(adu_g_isalive)}/{len(adu_g_isalive)} patients survived.')\n",
    "\n",
    "# Calculate TIR\n",
    "adu_g_tir = [m['TIR'] for m in ado_g_metrics]\n",
    "print(f'TIR: {np.mean(adu_g_tir):.2f} +/- {np.std(adu_g_tir):.2f}')\n",
    "\n",
    "# Calculate hypo\n",
    "adu_g_hypo = [m['hypo'] for m in ado_g_metrics]\n",
    "print(f'Hypo: {np.mean(adu_g_hypo):.2f} +/- {np.std(adu_g_hypo):.2f}')"
   ]
  },
  {
   "cell_type": "markdown",
   "metadata": {},
   "source": [
    "##### After personalized training"
   ]
  },
  {
   "cell_type": "code",
   "execution_count": null,
   "metadata": {},
   "outputs": [],
   "source": [
    "# Plot personalized training loss\n",
    "with open(os.path.join(adu_p_path,'training_loss.json')) as f:\n",
    "    adu_p_loss = json.load(f)\n",
    "\n",
    "plt.plot([losses[0] for losses in adu_p_loss])\n",
    "plt.title('Critic Training Loss (Adult/Personalized)')\n",
    "plt.xlabel('Iterations')\n",
    "plt.ylabel('Loss')\n",
    "plt.show()"
   ]
  },
  {
   "cell_type": "code",
   "execution_count": null,
   "metadata": {},
   "outputs": [],
   "source": [
    "adu_agent.load_agent(adu_p_path)"
   ]
  },
  {
   "cell_type": "code",
   "execution_count": null,
   "metadata": {},
   "outputs": [],
   "source": [
    "adu_p_metrics = adu_agent.evaluate_policy(render=True) # Evaluate policy on adult#001 (4 day sample)"
   ]
  },
  {
   "cell_type": "code",
   "execution_count": null,
   "metadata": {},
   "outputs": [],
   "source": [
    "print(f'Time in range (TIR): {adu_p_metrics[\"TIR\"]:.2f}')\n",
    "print(f'Time in hypoglycemic risk: {adu_p_metrics[\"hypo\"]:.2f}')"
   ]
  },
  {
   "cell_type": "code",
   "execution_count": null,
   "metadata": {},
   "outputs": [],
   "source": [
    "# Import metrics from ubelix\n",
    "with open(os.path.join('evaluation', 'metrics', 'adu_p_metrics.json')) as f:\n",
    "    adu_p_metrics = json.load(f)\n",
    "\n",
    "# Calculate survival rate\n",
    "adu_p_isalive = [m['is_alive'] for m in adu_p_metrics]\n",
    "print(f'{sum(adu_p_isalive)}/{len(adu_p_isalive)} patients survived.')\n",
    "\n",
    "# Calculate TIR\n",
    "adu_p_tir = [m['TIR'] for m in adu_p_metrics]\n",
    "print(f'TIR: {np.mean(adu_p_tir):.2f} +/- {np.std(adu_p_tir):.2f}')\n",
    "\n",
    "# Calculate hypo\n",
    "adu_p_hypo = [m['hypo'] for m in adu_p_metrics]\n",
    "print(f'Hypo: {np.mean(adu_p_hypo):.2f} +/- {np.std(adu_p_hypo):.2f}')"
   ]
  }
 ],
 "metadata": {
  "kernelspec": {
   "display_name": "Python 3.10.8 ('simgl')",
   "language": "python",
   "name": "python3"
  },
  "language_info": {
   "codemirror_mode": {
    "name": "ipython",
    "version": 3
   },
   "file_extension": ".py",
   "mimetype": "text/x-python",
   "name": "python",
   "nbconvert_exporter": "python",
   "pygments_lexer": "ipython3",
   "version": "3.10.8"
  },
  "orig_nbformat": 4,
  "vscode": {
   "interpreter": {
    "hash": "ca1511cbc7c6a502942e9cb53200d16513c9f9a44d4f6c4ce561ee70acb3611c"
   }
  }
 },
 "nbformat": 4,
 "nbformat_minor": 2
}
