{
 "cells": [
  {
   "cell_type": "code",
   "execution_count": 18,
   "metadata": {},
   "outputs": [],
   "source": [
    "import numpy as np\n",
    "import json\n",
    "import os"
   ]
  },
  {
   "cell_type": "markdown",
   "metadata": {},
   "source": [
    "## Adolescent General"
   ]
  },
  {
   "cell_type": "code",
   "execution_count": 19,
   "metadata": {},
   "outputs": [
    {
     "name": "stdout",
     "output_type": "stream",
     "text": [
      "50/50 patients survived.\n",
      "TIR: 67.4% +/- 18.0%\n",
      "Hypo: 0.1% +/- 0.3%\n"
     ]
    }
   ],
   "source": [
    "# Import metrics from ubelix\n",
    "with open(os.path.join('evaluation', 'metrics', 'ado_g_metrics.json')) as f:\n",
    "    ado_g_metrics = json.load(f)\n",
    "\n",
    "# Calculate survival rate\n",
    "ado_g_isalive = [m['is_alive'] for m in ado_g_metrics]\n",
    "print(f'{sum(ado_g_isalive)}/{len(ado_g_isalive)} patients survived.')\n",
    "\n",
    "# Calculate TIR\n",
    "ado_g_tir = [m['TIR'] for m in ado_g_metrics]\n",
    "print(f'TIR: {np.mean(ado_g_tir):.1%} +/- {np.std(ado_g_tir):.1%}')\n",
    "\n",
    "# Calculate hypo\n",
    "ado_g_hypo = [m['hypo'] for m in ado_g_metrics]\n",
    "print(f'Hypo: {np.mean(ado_g_hypo):.1%} +/- {np.std(ado_g_hypo):.1%}')"
   ]
  },
  {
   "cell_type": "markdown",
   "metadata": {},
   "source": [
    "## Adolescent Personalized"
   ]
  },
  {
   "cell_type": "code",
   "execution_count": 20,
   "metadata": {},
   "outputs": [
    {
     "name": "stdout",
     "output_type": "stream",
     "text": [
      "50/50 patients survived.\n",
      "TIR: 98.0% +/- 1.2%\n",
      "Hypo: 0.1% +/- 0.3%\n",
      "0.9953125\n",
      "[['2018-01-01 13:52:00', '[1.0118026 1.3264396 1.0802276]'], ['2018-01-01 20:46:00', '[0.98099023 1.2455511  1.0778567 ]'], ['2018-01-02 07:40:00', '[1.0118213 1.3385091 1.0890379]'], ['2018-01-02 13:19:00', '[0.9834974 1.2318344 1.0636843]'], ['2018-01-02 20:31:00', '[0.97269636 1.2767545  1.0974807 ]'], ['2018-01-03 07:46:00', '[0.9956784 1.3360232 1.1030729]'], ['2018-01-03 13:49:00', '[0.9478223 1.2293903 1.10903  ]'], ['2018-01-03 20:40:00', '[1.0096215 1.3135933 1.073418 ]'], ['2018-01-04 06:58:00', '[1.0060114 1.2933633 1.0676496]'], ['2018-01-04 13:43:00', '[0.97434604 1.2887056  1.0978844 ]'], ['2018-01-04 22:04:00', '[0.96294016 1.2529072  1.0999777 ]'], ['2018-01-05 06:49:00', '[0.9873198 1.3252954 1.1046177]']]\n"
     ]
    }
   ],
   "source": [
    "# Import metrics from ubelix\n",
    "with open(os.path.join('evaluation', 'metrics', 'ado_p_metrics.json')) as f:\n",
    "    ado_p_metrics = json.load(f)\n",
    "\n",
    "# Calculate survival rate\n",
    "ado_p_isalive = [m['is_alive'] for m in ado_p_metrics]\n",
    "print(f'{sum(ado_p_isalive)}/{len(ado_p_isalive)} patients survived.')\n",
    "\n",
    "# Calculate TIR\n",
    "ado_p_tir = [m['TIR'] for m in ado_p_metrics]\n",
    "print(f'TIR: {np.mean(ado_p_tir):.1%} +/- {np.std(ado_p_tir):.1%}')\n",
    "\n",
    "# Calculate hypo\n",
    "ado_p_hypo = [m['hypo'] for m in ado_p_metrics]\n",
    "print(f'Hypo: {np.mean(ado_p_hypo):.1%} +/- {np.std(ado_p_hypo):.1%}')\n",
    "\n",
    "# Print actions\n",
    "print(ado_p_metrics[0]['TIR'])\n",
    "print(ado_p_metrics[0]['actor_output'])"
   ]
  },
  {
   "cell_type": "markdown",
   "metadata": {},
   "source": [
    "## Adult General"
   ]
  },
  {
   "cell_type": "code",
   "execution_count": 21,
   "metadata": {},
   "outputs": [
    {
     "name": "stdout",
     "output_type": "stream",
     "text": [
      "50/50 patients survived.\n",
      "TIR: 79.0% +/- 11.3%\n",
      "Hypo: 1.1% +/- 2.0%\n"
     ]
    }
   ],
   "source": [
    "# Import metrics from ubelix\n",
    "with open(os.path.join('evaluation', 'metrics', 'adu_g_metrics.json')) as f:\n",
    "    adu_g_metrics = json.load(f)\n",
    "\n",
    "# Calculate survival rate\n",
    "adu_g_isalive = [m['is_alive'] for m in adu_g_metrics]\n",
    "print(f'{sum(adu_g_isalive)}/{len(adu_g_isalive)} patients survived.')\n",
    "\n",
    "# Calculate TIR\n",
    "adu_g_tir = [m['TIR'] for m in adu_g_metrics]\n",
    "print(f'TIR: {np.mean(adu_g_tir):.1%} +/- {np.std(adu_g_tir):.1%}')\n",
    "\n",
    "# Calculate hypo\n",
    "adu_g_hypo = [m['hypo'] for m in adu_g_metrics]\n",
    "print(f'Hypo: {np.mean(adu_g_hypo):.1%} +/- {np.std(adu_g_hypo):.1%}')"
   ]
  },
  {
   "cell_type": "markdown",
   "metadata": {},
   "source": [
    "## Adult Personalized"
   ]
  },
  {
   "cell_type": "code",
   "execution_count": 22,
   "metadata": {},
   "outputs": [
    {
     "name": "stdout",
     "output_type": "stream",
     "text": [
      "50/50 patients survived.\n",
      "TIR: 57.0% +/- 3.3%\n",
      "Hypo: 0.2% +/- 0.5%\n"
     ]
    }
   ],
   "source": [
    "# Import metrics from ubelix\n",
    "with open(os.path.join('evaluation', 'metrics', 'adu_p_metrics.json')) as f:\n",
    "    adu_p_metrics = json.load(f)\n",
    "\n",
    "# Calculate survival rate\n",
    "adu_p_isalive = [m['is_alive'] for m in adu_p_metrics]\n",
    "print(f'{sum(adu_p_isalive)}/{len(adu_p_isalive)} patients survived.')\n",
    "\n",
    "# Calculate TIR\n",
    "adu_p_tir = [m['TIR'] for m in adu_p_metrics]\n",
    "print(f'TIR: {np.mean(adu_p_tir):.1%} +/- {np.std(adu_p_tir):.1%}')\n",
    "\n",
    "# Calculate hypo\n",
    "adu_p_hypo = [m['hypo'] for m in adu_p_metrics]\n",
    "print(f'Hypo: {np.mean(adu_p_hypo):.1%} +/- {np.std(adu_p_hypo):.1%}')"
   ]
  }
 ],
 "metadata": {
  "kernelspec": {
   "display_name": "Python 3.10.8 ('simgl')",
   "language": "python",
   "name": "python3"
  },
  "language_info": {
   "codemirror_mode": {
    "name": "ipython",
    "version": 3
   },
   "file_extension": ".py",
   "mimetype": "text/x-python",
   "name": "python",
   "nbconvert_exporter": "python",
   "pygments_lexer": "ipython3",
   "version": "3.10.8"
  },
  "orig_nbformat": 4,
  "vscode": {
   "interpreter": {
    "hash": "ca1511cbc7c6a502942e9cb53200d16513c9f9a44d4f6c4ce561ee70acb3611c"
   }
  }
 },
 "nbformat": 4,
 "nbformat_minor": 2
}
