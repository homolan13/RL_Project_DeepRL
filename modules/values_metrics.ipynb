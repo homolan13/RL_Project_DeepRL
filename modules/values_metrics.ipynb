{
 "cells": [
  {
   "cell_type": "code",
   "execution_count": null,
   "metadata": {},
   "outputs": [],
   "source": [
    "import numpy as np\n",
    "import json\n",
    "import os"
   ]
  },
  {
   "cell_type": "markdown",
   "metadata": {},
   "source": [
    "## Adolescent General"
   ]
  },
  {
   "cell_type": "code",
   "execution_count": null,
   "metadata": {},
   "outputs": [],
   "source": [
    "# Import metrics from ubelix\n",
    "with open(os.path.join('evaluation', 'metrics', 'ado_g_metrics.json')) as f:\n",
    "    ado_g_metrics = json.load(f)\n",
    "\n",
    "# Calculate survival rate\n",
    "ado_g_isalive = [m['is_alive'] for m in ado_g_metrics]\n",
    "print(f'{sum(ado_g_isalive)}/{len(ado_g_isalive)} patients survived.')\n",
    "\n",
    "# Calculate TIR\n",
    "ado_g_tir = [m['TIR'] for m in ado_g_metrics]\n",
    "print(f'TIR: {np.mean(ado_g_tir):.2f} +/- {np.std(ado_g_tir):.2f}')\n",
    "\n",
    "# Calculate hypo\n",
    "ado_g_hypo = [m['hypo'] for m in ado_g_metrics]\n",
    "print(f'Hypo: {np.mean(ado_g_hypo):.2f} +/- {np.std(ado_g_hypo):.2f}')"
   ]
  },
  {
   "cell_type": "markdown",
   "metadata": {},
   "source": [
    "## Adolescent Personalized"
   ]
  },
  {
   "cell_type": "code",
   "execution_count": null,
   "metadata": {},
   "outputs": [],
   "source": [
    "# Import metrics from ubelix\n",
    "with open(os.path.join('evaluation', 'metrics', 'ado_p_metrics.json')) as f:\n",
    "    ado_p_metrics = json.load(f)\n",
    "\n",
    "# Calculate survival rate\n",
    "ado_p_isalive = [m['is_alive'] for m in ado_p_metrics]\n",
    "print(f'{sum(ado_p_isalive)}/{len(ado_p_isalive)} patients survived.')\n",
    "\n",
    "# Calculate TIR\n",
    "ado_p_tir = [m['TIR'] for m in ado_p_metrics]\n",
    "print(f'TIR: {np.mean(ado_p_tir):.2f} +/- {np.std(ado_p_tir):.2f}')\n",
    "\n",
    "# Calculate hypo\n",
    "ado_p_hypo = [m['hypo'] for m in ado_p_metrics]\n",
    "print(f'Hypo: {np.mean(ado_p_hypo):.2f} +/- {np.std(ado_p_hypo):.2f}')"
   ]
  },
  {
   "cell_type": "markdown",
   "metadata": {},
   "source": [
    "## Adult General"
   ]
  },
  {
   "cell_type": "code",
   "execution_count": null,
   "metadata": {},
   "outputs": [],
   "source": [
    "# Import metrics from ubelix\n",
    "with open(os.path.join('evaluation', 'metrics', 'adu_g_metrics.json')) as f:\n",
    "    adu_g_metrics = json.load(f)\n",
    "\n",
    "# Calculate survival rate\n",
    "adu_g_isalive = [m['is_alive'] for m in ado_g_metrics]\n",
    "print(f'{sum(adu_g_isalive)}/{len(adu_g_isalive)} patients survived.')\n",
    "\n",
    "# Calculate TIR\n",
    "adu_g_tir = [m['TIR'] for m in ado_g_metrics]\n",
    "print(f'TIR: {np.mean(adu_g_tir):.2f} +/- {np.std(adu_g_tir):.2f}')\n",
    "\n",
    "# Calculate hypo\n",
    "adu_g_hypo = [m['hypo'] for m in ado_g_metrics]\n",
    "print(f'Hypo: {np.mean(adu_g_hypo):.2f} +/- {np.std(adu_g_hypo):.2f}')"
   ]
  },
  {
   "cell_type": "markdown",
   "metadata": {},
   "source": [
    "## Adult Personalized"
   ]
  },
  {
   "cell_type": "code",
   "execution_count": null,
   "metadata": {},
   "outputs": [],
   "source": [
    "# Import metrics from ubelix\n",
    "with open(os.path.join('evaluation', 'metrics', 'adu_p_metrics.json')) as f:\n",
    "    adu_p_metrics = json.load(f)\n",
    "\n",
    "# Calculate survival rate\n",
    "adu_p_isalive = [m['is_alive'] for m in adu_p_metrics]\n",
    "print(f'{sum(adu_p_isalive)}/{len(adu_p_isalive)} patients survived.')\n",
    "\n",
    "# Calculate TIR\n",
    "adu_p_tir = [m['TIR'] for m in adu_p_metrics]\n",
    "print(f'TIR: {np.mean(adu_p_tir):.2f} +/- {np.std(adu_p_tir):.2f}')\n",
    "\n",
    "# Calculate hypo\n",
    "adu_p_hypo = [m['hypo'] for m in adu_p_metrics]\n",
    "print(f'Hypo: {np.mean(adu_p_hypo):.2f} +/- {np.std(adu_p_hypo):.2f}')"
   ]
  }
 ],
 "metadata": {
  "kernelspec": {
   "display_name": "Python 3.10.8 ('simgl')",
   "language": "python",
   "name": "python3"
  },
  "language_info": {
   "name": "python",
   "version": "3.10.8"
  },
  "orig_nbformat": 4,
  "vscode": {
   "interpreter": {
    "hash": "ca1511cbc7c6a502942e9cb53200d16513c9f9a44d4f6c4ce561ee70acb3611c"
   }
  }
 },
 "nbformat": 4,
 "nbformat_minor": 2
}
