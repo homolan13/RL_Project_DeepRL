{
 "cells": [
  {
   "cell_type": "markdown",
   "metadata": {},
   "source": [
    "## Bolus Glucose Control in Type 1 Diabetes Using Deep Reinforcement Learning\n",
    "Raphael Joost, 18-???-??? & Yanis Schärer, 18-114-058"
   ]
  },
  {
   "cell_type": "markdown",
   "metadata": {},
   "source": [
    "### Implementing a Deep Deterministic Policy Gradient (DDPG) agent\n"
   ]
  },
  {
   "cell_type": "code",
   "execution_count": 1,
   "metadata": {},
   "outputs": [
    {
     "name": "stderr",
     "output_type": "stream",
     "text": [
      "C:\\Users\\yanis\\AppData\\Roaming\\Python\\Python310\\site-packages\\tqdm\\auto.py:22: TqdmWarning: IProgress not found. Please update jupyter and ipywidgets. See https://ipywidgets.readthedocs.io/en/stable/user_install.html\n",
      "  from .autonotebook import tqdm as notebook_tqdm\n"
     ]
    }
   ],
   "source": [
    "import numpy as np\n",
    "import torch as th\n",
    "import torch.nn.functional as F\n",
    "from copy import deepcopy\n",
    "from datetime import datetime\n",
    "import simglucose\n",
    "import gym\n",
    "from gym.wrappers import FlattenObservation\n",
    "from tqdm import tqdm"
   ]
  },
  {
   "cell_type": "code",
   "execution_count": 2,
   "metadata": {},
   "outputs": [],
   "source": [
    "# Define Replay Buffer\n",
    "class ReplayBuffer:\n",
    "    def __init__(self, state_dim, action_dim, device, max_size=500):\n",
    "        self.device = device\n",
    "        self.max_size = max_size\n",
    "        self.size = 0\n",
    "        self.ptr = 0\n",
    "        self.state_buffer = np.zeros((max_size, state_dim))\n",
    "        self.action_buffer = np.zeros((max_size, action_dim))\n",
    "        self.next_state_buffer = np.zeros((max_size, state_dim))\n",
    "        self.reward_buffer = np.zeros((max_size, 1))\n",
    "        self.done_buffer = np.zeros((max_size, 1))\n",
    "\n",
    "    def store(self, state, action, reward, next_state, done):\n",
    "        self.state_buffer[self.ptr] = state\n",
    "        self.action_buffer[self.ptr] = action\n",
    "        self.next_state_buffer[self.ptr] = next_state\n",
    "        self.reward_buffer[self.ptr] = reward\n",
    "        self.done_buffer[self.ptr] = done\n",
    "        self.ptr = (self.ptr + 1) % self.max_size\n",
    "        self.size = min(self.size + 1, self.max_size)\n",
    "\n",
    "\n",
    "    def sample(self, batch_size):\n",
    "        idx = np.random.randint(0, self.size, size=batch_size)\n",
    "        return (\n",
    "            th.tensor(self.state_buffer[idx], dtype=th.float32).to(self.device),\n",
    "            th.tensor(self.action_buffer[idx], dtype=th.float32).to(self.device),\n",
    "            th.tensor(self.reward_buffer[idx], dtype=th.float32).to(self.device),\n",
    "            th.tensor(self.next_state_buffer[idx], dtype=th.float32).to(self.device),\n",
    "            th.tensor(self.done_buffer[idx], dtype=th.float32).to(self.device)\n",
    "        )"
   ]
  },
  {
   "cell_type": "code",
   "execution_count": 3,
   "metadata": {},
   "outputs": [],
   "source": [
    "# Define Actor and Critic networks\n",
    "class Actor(th.nn.Module): # state -> action\n",
    "    def __init__(self, state_dim, action_dim):\n",
    "        super(Actor, self).__init__()\n",
    "        self.l1 = th.nn.Linear(state_dim, 200)\n",
    "        self.l2 = th.nn.Linear(200, 200)\n",
    "        self.l3 = th.nn.Linear(200, 10)\n",
    "        self.l4 = th.nn.Linear(10, action_dim)\n",
    "\n",
    "    def forward(self, state):\n",
    "        a = F.relu(self.l1(state))\n",
    "        a = F.relu(self.l2(a))\n",
    "        a = F.relu(self.l3(a))\n",
    "        a = th.sigmoid(self.l4(a))\n",
    "        return 1.8 * a + 0.2 # scale to [0.2, 2.0]\n",
    "\n",
    "class Critic(th.nn.Module): # state + action -> Q(s,a) (Q-Network)\n",
    "    def __init__(self, state_dimension, action_dimension):\n",
    "        super(Critic, self).__init__()\n",
    "        self.l1 = th.nn.Linear(state_dimension + action_dimension, 200)\n",
    "        self.l2 = th.nn.Linear(200, 200)\n",
    "        self.l3 = th.nn.Linear(200, 10)\n",
    "        self.l4 = th.nn.Linear(10, 1)\n",
    "\n",
    "    def forward(self, state, action):\n",
    "        q = F.relu(self.l1(th.cat([state, action], 1)))\n",
    "        q = F.relu(self.l2(q))\n",
    "        q = F.relu(self.l3(q))\n",
    "        q = self.l4(q)\n",
    "        return q"
   ]
  },
  {
   "cell_type": "code",
   "execution_count": 22,
   "metadata": {},
   "outputs": [],
   "source": [
    "# Define DDPG Agent\n",
    "class DDPGAgent(object):\n",
    "    def __init__(self, env, device, discount=0.9, tau=0.01):\n",
    "        self.env = env\n",
    "        self.state_dim = env.observation_space.shape[0]\n",
    "        self.action_dim = env.action_space.shape[0]\n",
    "        self.device = device\n",
    "        self.discount = discount\n",
    "        self.tau = tau\n",
    "        # Actor and Actor target\n",
    "        self.actor = Actor(self.state_dim, self.action_dim).to(device)\n",
    "        self.actor_optimizer = th.optim.Adam(self.actor.parameters(), lr=1e-4)\n",
    "        self.actor_target = deepcopy(self.actor)\n",
    "        # Critic and Critic target\n",
    "        self.critic = Critic(self.state_dim, self.action_dim).to(device)\n",
    "        self.critic_optimizer = th.optim.Adam(self.critic.parameters(), lr=1e-4)\n",
    "        self.critic_target = deepcopy(self.critic)\n",
    "        # Replay buffer\n",
    "        self.replay_buffer = ReplayBuffer(self.state_dim, self.action_dim, self.device)\n",
    "\n",
    "    def soft_update(self):\n",
    "        for target_param, local_param in zip(self.actor_target.parameters(), self.actor.parameters()):\n",
    "            target_param.data.copy_(self.tau * local_param.data + (1.0 - self.tau) * target_param.data)\n",
    "        for target_param, local_param in zip(self.critic_target.parameters(), self.critic.parameters()):\n",
    "            target_param.data.copy_(self.tau * local_param.data + (1.0 - self.tau) * target_param.data)\n",
    "\n",
    "    def select_action(self, state): # Actor selects action based on current state\n",
    "        return self.actor(th.tensor(state, dtype=th.float32).to(self.device)).detach().cpu().numpy()\n",
    "\n",
    "    def train(self, batch_size=32, target_update_period=10, max_iter=1000, max_patience=100):\n",
    "        critic_training_loss = []\n",
    "        min_critic_loss = float('inf')\n",
    "        patience = max_patience\n",
    "        for it in range(max_iter):\n",
    "\n",
    "            # Sample one episode and add it to the replay buffer\n",
    "            state, info = self.env.reset()\n",
    "            done = False\n",
    "            while not done:\n",
    "                while info['meal'] == 0:\n",
    "                    action = [0, 0, 0]\n",
    "                    state, _, done, _, info = self.env.step(action)\n",
    "                    if done:\n",
    "                        break\n",
    "                if done:\n",
    "                    break\n",
    "                \n",
    "                while info['meal'] > 0:\n",
    "                    action = [0, 0, 0]\n",
    "                    state, _, done, _, info = self.env.step(action)\n",
    "                    if done:\n",
    "                        break\n",
    "                if done:\n",
    "                    break\n",
    "                \n",
    "                start_state = state\n",
    "                start_time = info['time']\n",
    "                noise = np.random.normal(0, 0.3, (3,))\n",
    "                action = self.select_action(start_state) + noise\n",
    "                state, reward, done, _, info = self.env.step(action)\n",
    "                reward_sum = reward\n",
    "                while info['meal'] == 0 and (info['time'] - start_time).seconds < 5*3600:\n",
    "                    action = [0, 0, 0]\n",
    "                    state, reward, done, _, info = self.env.step(action)\n",
    "                    reward_sum += reward\n",
    "                    if done:\n",
    "                        break\n",
    "                next_state = state\n",
    "                self.replay_buffer.store(start_state, action, reward_sum, next_state, done)\n",
    "                if done:\n",
    "                    break\n",
    "            \n",
    "            # Sample replay buffer\n",
    "            state, action, reward, next_state, done = self.replay_buffer.sample(batch_size)\n",
    "            # Compute the target Q value\n",
    "            target_q = self.critic_target(next_state, self.actor_target(next_state))\n",
    "            target_q = reward + (done * self.discount * target_q).detach()\n",
    "            # Get current Q estimate\n",
    "            current_q = self.critic(state, action)\n",
    "            # Compute critic loss\n",
    "            critic_loss = F.mse_loss(current_q, target_q)\n",
    "            # Optimize the critic\n",
    "            self.critic_optimizer.zero_grad()\n",
    "            critic_loss.backward()\n",
    "            self.critic_optimizer.step()\n",
    "            # Compute actor loss\n",
    "            actor_loss = -self.critic(state, self.actor(state)).mean()\n",
    "            # Optimize the actor\n",
    "            self.actor_optimizer.zero_grad()\n",
    "            actor_loss.backward()\n",
    "            self.actor_optimizer.step()\n",
    "            # Save training loss   \n",
    "            if critic_loss < min_critic_loss:\n",
    "                min_critic_loss = critic_loss\n",
    "                patience = max_patience\n",
    "            critic_training_loss.append([critic_loss.item(), actor_loss.item()])\n",
    "            \n",
    "            # Update target networks\n",
    "            if it % target_update_period == 0:\n",
    "                self.soft_update()\n",
    "\n",
    "            if it % 5 == 0:\n",
    "                print(f'Iteration: {it+1}, Critic loss: {critic_loss.item():.3f} (min: {min_critic_loss:.3f}), Patience left: {patience}')\n",
    "\n",
    "            # Convergence check\n",
    "            patience -= 1\n",
    "            if patience == 0:\n",
    "                print('Critic converged...')\n",
    "                break\n",
    "\n",
    "        return critic_training_loss"
   ]
  },
  {
   "cell_type": "code",
   "execution_count": 5,
   "metadata": {},
   "outputs": [],
   "source": [
    "# Define reward function based on paper\n",
    "def custom_reward(BG_history):\n",
    "    BG = BG_history[-1]\n",
    "    # BG: blood glucose level\n",
    "    # Hypoglycemia: BG < 70 mg/dL\n",
    "    if 30 <= BG and BG < 70:\n",
    "        return -1.5\n",
    "    # Normoglycemia: 70 mg/dL < BG < 180 mg/dL\n",
    "    elif 70 <= BG and BG <= 180:\n",
    "        return 0.5\n",
    "    # Hyperglycemia: BG > 180 mg/dL\n",
    "    elif 180 < BG and BG <= 300:\n",
    "        return -0.8\n",
    "    elif 300 < BG and BG <= 350:\n",
    "        return -1\n",
    "    # Other cases\n",
    "    else:\n",
    "        return -2"
   ]
  },
  {
   "cell_type": "markdown",
   "metadata": {},
   "source": [
    "### Linking the DDPG agent to the OpenAI Gym environment"
   ]
  },
  {
   "cell_type": "code",
   "execution_count": 6,
   "metadata": {},
   "outputs": [],
   "source": [
    "import numpy as np\n",
    "import torch as th\n",
    "import torch.nn.functional as F\n",
    "from copy import deepcopy\n",
    "from datetime import datetime\n",
    "import simglucose\n",
    "import gym\n",
    "from gym.wrappers import FlattenObservation\n",
    "from tqdm import tqdm"
   ]
  },
  {
   "cell_type": "code",
   "execution_count": 7,
   "metadata": {},
   "outputs": [],
   "source": [
    "from simglucose.simulation.scenario_gen import RandomScenario\n",
    "\n",
    "history_length = 6\n",
    "\n",
    "gym.envs.register(\n",
    "    id='simglucose-bolus',\n",
    "    entry_point='simglucose.envs:T1DSimEnvBolus',\n",
    "    kwargs={'patient_name': ['average_adolescent'],\n",
    "        'history_length': history_length, 'reward_fun': custom_reward,\n",
    "        'enable_meal': True})"
   ]
  },
  {
   "cell_type": "code",
   "execution_count": 8,
   "metadata": {},
   "outputs": [
    {
     "name": "stdout",
     "output_type": "stream",
     "text": [
      "Dict('CGM': Box(0.0, 10000.0, (6,), float32), 'CHO': Box(0.0, 10000.0, (6,), float32), 'insulin': Box(0.0, 10000.0, (6,), float32))\n",
      "Box(0.2, 2.0, (3,), float32)\n"
     ]
    }
   ],
   "source": [
    "env = gym.make('simglucose-bolus')\n",
    "print(env.observation_space)\n",
    "print(env.action_space)"
   ]
  },
  {
   "cell_type": "code",
   "execution_count": 9,
   "metadata": {},
   "outputs": [],
   "source": [
    "env = FlattenObservation(env)"
   ]
  },
  {
   "cell_type": "code",
   "execution_count": 10,
   "metadata": {},
   "outputs": [
    {
     "name": "stdout",
     "output_type": "stream",
     "text": [
      "[140.43945 140.43945 140.43945 140.43945 140.43945 140.43945   0.\n",
      "   0.        0.        0.        0.        0.        0.        0.\n",
      "   0.        0.        0.        0.     ]\n",
      " \n",
      "{'time': datetime.datetime(2018, 1, 1, 21, 58), 'meal': 19.6, 'patient_name': 'average_adolescent', 'sample_time': 3.0}\n"
     ]
    }
   ],
   "source": [
    "observation, info = env.reset()\n",
    "print(observation)\n",
    "print(' ')\n",
    "print(info)"
   ]
  },
  {
   "cell_type": "code",
   "execution_count": 11,
   "metadata": {},
   "outputs": [
    {
     "data": {
      "text/plain": [
       "array([0.9090418 , 0.83291435, 0.6259657 ], dtype=float32)"
      ]
     },
     "execution_count": 11,
     "metadata": {},
     "output_type": "execute_result"
    }
   ],
   "source": [
    "env.action_space.sample()"
   ]
  },
  {
   "cell_type": "code",
   "execution_count": 12,
   "metadata": {},
   "outputs": [
    {
     "name": "stderr",
     "output_type": "stream",
     "text": [
      "c:\\Users\\yanis\\anaconda3\\envs\\simgl\\lib\\site-packages\\gym\\utils\\passive_env_checker.py:233: DeprecationWarning: `np.bool8` is a deprecated alias for `np.bool_`.  (Deprecated NumPy 1.24)\n",
      "  if not isinstance(terminated, (bool, np.bool8)):\n"
     ]
    },
    {
     "data": {
      "text/plain": [
       "(array([1.4043945e+02, 1.4043945e+02, 1.4043945e+02, 1.4043945e+02,\n",
       "        1.4043945e+02, 1.3989368e+02, 0.0000000e+00, 0.0000000e+00,\n",
       "        0.0000000e+00, 0.0000000e+00, 0.0000000e+00, 6.5333333e+00,\n",
       "        0.0000000e+00, 0.0000000e+00, 0.0000000e+00, 0.0000000e+00,\n",
       "        0.0000000e+00, 2.5607074e-02], dtype=float32),\n",
       " 0.5,\n",
       " False,\n",
       " False,\n",
       " {'time': datetime.datetime(2018, 1, 1, 22, 1),\n",
       "  'meal': 19.6,\n",
       "  'patient_name': 'average_adolescent',\n",
       "  'sample_time': 3.0})"
      ]
     },
     "execution_count": 12,
     "metadata": {},
     "output_type": "execute_result"
    }
   ],
   "source": [
    "env.step(env.action_space.sample())"
   ]
  },
  {
   "cell_type": "code",
   "execution_count": 13,
   "metadata": {},
   "outputs": [
    {
     "name": "stdout",
     "output_type": "stream",
     "text": [
      "[189.58774 189.58774 189.58774 189.58774 189.58774 189.58774   0.\n",
      "   0.        0.        0.        0.        0.        0.        0.\n",
      "   0.        0.        0.        0.     ]\n"
     ]
    },
    {
     "ename": "IndexError",
     "evalue": "index 23 is out of bounds for axis 0 with size 18",
     "output_type": "error",
     "traceback": [
      "\u001b[1;31m---------------------------------------------------------------------------\u001b[0m",
      "\u001b[1;31mIndexError\u001b[0m                                Traceback (most recent call last)",
      "Cell \u001b[1;32mIn[13], line 5\u001b[0m\n\u001b[0;32m      3\u001b[0m env\u001b[39m.\u001b[39mrender(mode\u001b[39m=\u001b[39m\u001b[39m'\u001b[39m\u001b[39mhuman\u001b[39m\u001b[39m'\u001b[39m)     \n\u001b[0;32m      4\u001b[0m \u001b[39mprint\u001b[39m(observation)\n\u001b[1;32m----> 5\u001b[0m \u001b[39mif\u001b[39;00m observation[\u001b[39m23\u001b[39;49m] \u001b[39m!=\u001b[39m \u001b[39m0\u001b[39m:\n\u001b[0;32m      6\u001b[0m     action \u001b[39m=\u001b[39m env\u001b[39m.\u001b[39maction_space\u001b[39m.\u001b[39msample()\n\u001b[0;32m      7\u001b[0m     \u001b[39mprint\u001b[39m(\u001b[39m'\u001b[39m\u001b[39mFood was delicious!!!!!!!!!!!!!!!!!!!!!! MMMMMMMMMMhhhhhhhhhhhh...\u001b[39m\u001b[39m'\u001b[39m)\n",
      "\u001b[1;31mIndexError\u001b[0m: index 23 is out of bounds for axis 0 with size 18"
     ]
    },
    {
     "data": {
      "image/png": "[encoded data removed]",
      "text/plain": [
       "<Figure size 640x480 with 4 Axes>"
      ]
     },
     "metadata": {},
     "output_type": "display_data"
    }
   ],
   "source": [
    "observation, info = env.reset()\n",
    "for t in range(1000): # PAPER: While interval between meals < 5 hours\n",
    "    env.render(mode='human')     \n",
    "    print(observation)\n",
    "    if observation[23] != 0:\n",
    "        action = env.action_space.sample()\n",
    "        print('Food was delicious!!!!!!!!!!!!!!!!!!!!!! MMMMMMMMMMhhhhhhhhhhhh...')\n",
    "    else:\n",
    "        action = [0, 0, 0]   \n",
    "    observation, reward, done, _, info = env.step(action)     \n",
    "    print('info  ', info)     \n",
    "    if done:         \n",
    "        print(\"Episode finished after {} timesteps\".format(t + 1))         \n",
    "        break"
   ]
  },
  {
   "cell_type": "code",
   "execution_count": 23,
   "metadata": {},
   "outputs": [
    {
     "name": "stdout",
     "output_type": "stream",
     "text": [
      "[79.035164  73.68302   68.58055   63.726593  59.117622  54.74371\n",
      " 50.56326   46.490158  42.45433   39.51488   39.        39.\n",
      "  0.         0.         0.         0.         0.         0.\n",
      "  0.         0.         0.         0.         0.         0.\n",
      " -3.9833224 -5.3297687 -6.93824   -8.895523  -5.4544973 -1.9494685\n",
      " -6.988207  -8.332682  -3.8538153 -3.1868508 -3.8307102 -5.370084 ]\n"
     ]
    }
   ],
   "source": [
    "print(observation)"
   ]
  },
  {
   "cell_type": "code",
   "execution_count": 26,
   "metadata": {},
   "outputs": [
    {
     "data": {
      "text/plain": [
       "(array([ 1.3907034e+02,  1.3907034e+02,  1.3907034e+02,  1.3907034e+02,\n",
       "         1.3907034e+02,  1.3907034e+02,  1.3907034e+02,  1.3907034e+02,\n",
       "         1.3907034e+02,  1.3907034e+02,  1.3907034e+02,  1.3972990e+02,\n",
       "         0.0000000e+00,  0.0000000e+00,  0.0000000e+00,  0.0000000e+00,\n",
       "         0.0000000e+00,  0.0000000e+00,  0.0000000e+00,  0.0000000e+00,\n",
       "         0.0000000e+00,  0.0000000e+00,  0.0000000e+00,  0.0000000e+00,\n",
       "         0.0000000e+00,  0.0000000e+00,  0.0000000e+00,  0.0000000e+00,\n",
       "         0.0000000e+00,  0.0000000e+00,  0.0000000e+00,  0.0000000e+00,\n",
       "         0.0000000e+00,  0.0000000e+00,  0.0000000e+00, -2.6918611e-02],\n",
       "       dtype=float32),\n",
       " 0.5,\n",
       " False,\n",
       " False,\n",
       " {'time': datetime.datetime(2018, 1, 1, 17, 3),\n",
       "  'meal': 0,\n",
       "  'patient_name': 'adolescent#001',\n",
       "  'sample_time': 3.0})"
      ]
     },
     "execution_count": 26,
     "metadata": {},
     "output_type": "execute_result"
    }
   ],
   "source": [
    "env.reset()\n",
    "action = env.action_space.sample()\n",
    "env.step(action)"
   ]
  },
  {
   "cell_type": "code",
   "execution_count": 11,
   "metadata": {},
   "outputs": [
    {
     "name": "stdout",
     "output_type": "stream",
     "text": [
      "(36,)\n",
      "(3,)\n",
      "[2. 2. 2.]\n"
     ]
    }
   ],
   "source": [
    "print(env.observation_space.shape)\n",
    "print(env.action_space.shape)\n",
    "print(env.action_space.high)"
   ]
  },
  {
   "cell_type": "code",
   "execution_count": 23,
   "metadata": {},
   "outputs": [
    {
     "name": "stdout",
     "output_type": "stream",
     "text": [
      "Iteration: 1, Critic loss: 97.812 (min: 97.812), Patience left: 100\n",
      "Iteration: 6, Critic loss: 34.762 (min: 33.540), Patience left: 99\n",
      "Iteration: 11, Critic loss: 8.809 (min: 8.809), Patience left: 100\n",
      "Iteration: 16, Critic loss: 1.915 (min: 1.915), Patience left: 100\n",
      "Iteration: 21, Critic loss: 1.293 (min: 1.293), Patience left: 100\n",
      "Iteration: 26, Critic loss: 0.616 (min: 0.616), Patience left: 100\n",
      "Iteration: 31, Critic loss: 1.122 (min: 0.596), Patience left: 98\n",
      "Iteration: 36, Critic loss: 1.613 (min: 0.596), Patience left: 93\n",
      "Iteration: 41, Critic loss: 1.660 (min: 0.596), Patience left: 88\n",
      "Iteration: 46, Critic loss: 0.898 (min: 0.596), Patience left: 83\n",
      "Iteration: 51, Critic loss: 1.003 (min: 0.596), Patience left: 78\n",
      "Iteration: 56, Critic loss: 1.138 (min: 0.313), Patience left: 97\n",
      "Iteration: 61, Critic loss: 1.497 (min: 0.313), Patience left: 92\n",
      "Iteration: 66, Critic loss: 1.115 (min: 0.313), Patience left: 87\n",
      "Iteration: 71, Critic loss: 0.817 (min: 0.313), Patience left: 82\n",
      "Iteration: 76, Critic loss: 0.814 (min: 0.313), Patience left: 77\n",
      "Iteration: 81, Critic loss: 0.782 (min: 0.313), Patience left: 72\n",
      "Iteration: 86, Critic loss: 0.866 (min: 0.313), Patience left: 67\n",
      "Iteration: 91, Critic loss: 0.601 (min: 0.313), Patience left: 62\n",
      "Iteration: 96, Critic loss: 0.930 (min: 0.313), Patience left: 57\n",
      "Iteration: 101, Critic loss: 1.038 (min: 0.313), Patience left: 52\n",
      "Iteration: 106, Critic loss: 1.543 (min: 0.313), Patience left: 47\n",
      "Iteration: 111, Critic loss: 0.906 (min: 0.313), Patience left: 42\n",
      "Iteration: 116, Critic loss: 1.087 (min: 0.313), Patience left: 37\n",
      "Iteration: 121, Critic loss: 0.929 (min: 0.313), Patience left: 32\n",
      "Iteration: 126, Critic loss: 1.003 (min: 0.313), Patience left: 27\n",
      "Iteration: 131, Critic loss: 1.627 (min: 0.313), Patience left: 22\n",
      "Iteration: 136, Critic loss: 0.824 (min: 0.313), Patience left: 17\n",
      "Iteration: 141, Critic loss: 1.460 (min: 0.313), Patience left: 12\n",
      "Iteration: 146, Critic loss: 0.905 (min: 0.313), Patience left: 7\n",
      "Iteration: 151, Critic loss: 0.760 (min: 0.313), Patience left: 2\n",
      "Critic converged...\n"
     ]
    }
   ],
   "source": [
    "device = th.device('cuda' if th.cuda.is_available() else 'cpu')\n",
    "\n",
    "agent = DDPGAgent(env=env, device=device)\n",
    "critic_loss = agent.train()"
   ]
  },
  {
   "cell_type": "code",
   "execution_count": 24,
   "metadata": {},
   "outputs": [
    {
     "data": {
      "text/plain": [
       "[<matplotlib.lines.Line2D at 0x21fc597edd0>]"
      ]
     },
     "execution_count": 24,
     "metadata": {},
     "output_type": "execute_result"
    },
    {
     "data": {
      "image/png": "[encoded data removed]",
      "text/plain": [
       "<Figure size 640x480 with 1 Axes>"
      ]
     },
     "metadata": {},
     "output_type": "display_data"
    }
   ],
   "source": [
    "import matplotlib.pyplot as plt\n",
    "\n",
    "plt.plot([x[0] for x in critic_loss])"
   ]
  },
  {
   "cell_type": "code",
   "execution_count": 25,
   "metadata": {},
   "outputs": [
    {
     "name": "stdout",
     "output_type": "stream",
     "text": [
      "info   {'time': datetime.datetime(2018, 1, 1, 5, 32), 'meal': 0, 'patient_name': 'average_adolescent', 'sample_time': 3.0}\n",
      "info   {'time': datetime.datetime(2018, 1, 1, 5, 35), 'meal': 0, 'patient_name': 'average_adolescent', 'sample_time': 3.0}\n",
      "info   {'time': datetime.datetime(2018, 1, 1, 5, 38), 'meal': 0, 'patient_name': 'average_adolescent', 'sample_time': 3.0}\n",
      "info   {'time': datetime.datetime(2018, 1, 1, 5, 41), 'meal': 0, 'patient_name': 'average_adolescent', 'sample_time': 3.0}\n",
      "info   {'time': datetime.datetime(2018, 1, 1, 5, 44), 'meal': 0, 'patient_name': 'average_adolescent', 'sample_time': 3.0}\n",
      "info   {'time': datetime.datetime(2018, 1, 1, 5, 47), 'meal': 0, 'patient_name': 'average_adolescent', 'sample_time': 3.0}\n",
      "info   {'time': datetime.datetime(2018, 1, 1, 5, 50), 'meal': 0, 'patient_name': 'average_adolescent', 'sample_time': 3.0}\n",
      "info   {'time': datetime.datetime(2018, 1, 1, 5, 53), 'meal': 0, 'patient_name': 'average_adolescent', 'sample_time': 3.0}\n",
      "info   {'time': datetime.datetime(2018, 1, 1, 5, 56), 'meal': 0, 'patient_name': 'average_adolescent', 'sample_time': 3.0}\n",
      "info   {'time': datetime.datetime(2018, 1, 1, 5, 59), 'meal': 0, 'patient_name': 'average_adolescent', 'sample_time': 3.0}\n",
      "info   {'time': datetime.datetime(2018, 1, 1, 6, 2), 'meal': 0, 'patient_name': 'average_adolescent', 'sample_time': 3.0}\n",
      "info   {'time': datetime.datetime(2018, 1, 1, 6, 5), 'meal': 0, 'patient_name': 'average_adolescent', 'sample_time': 3.0}\n",
      "info   {'time': datetime.datetime(2018, 1, 1, 6, 8), 'meal': 0, 'patient_name': 'average_adolescent', 'sample_time': 3.0}\n",
      "info   {'time': datetime.datetime(2018, 1, 1, 6, 11), 'meal': 0, 'patient_name': 'average_adolescent', 'sample_time': 3.0}\n",
      "info   {'time': datetime.datetime(2018, 1, 1, 6, 14), 'meal': 0, 'patient_name': 'average_adolescent', 'sample_time': 3.0}\n",
      "info   {'time': datetime.datetime(2018, 1, 1, 6, 17), 'meal': 0, 'patient_name': 'average_adolescent', 'sample_time': 3.0}\n",
      "info   {'time': datetime.datetime(2018, 1, 1, 6, 20), 'meal': 0, 'patient_name': 'average_adolescent', 'sample_time': 3.0}\n",
      "info   {'time': datetime.datetime(2018, 1, 1, 6, 23), 'meal': 0, 'patient_name': 'average_adolescent', 'sample_time': 3.0}\n",
      "info   {'time': datetime.datetime(2018, 1, 1, 6, 26), 'meal': 0, 'patient_name': 'average_adolescent', 'sample_time': 3.0}\n",
      "info   {'time': datetime.datetime(2018, 1, 1, 6, 29), 'meal': 0, 'patient_name': 'average_adolescent', 'sample_time': 3.0}\n",
      "info   {'time': datetime.datetime(2018, 1, 1, 6, 32), 'meal': 0, 'patient_name': 'average_adolescent', 'sample_time': 3.0}\n",
      "info   {'time': datetime.datetime(2018, 1, 1, 6, 35), 'meal': 0, 'patient_name': 'average_adolescent', 'sample_time': 3.0}\n",
      "info   {'time': datetime.datetime(2018, 1, 1, 6, 38), 'meal': 0, 'patient_name': 'average_adolescent', 'sample_time': 3.0}\n",
      "info   {'time': datetime.datetime(2018, 1, 1, 6, 41), 'meal': 0, 'patient_name': 'average_adolescent', 'sample_time': 3.0}\n",
      "info   {'time': datetime.datetime(2018, 1, 1, 6, 44), 'meal': 0, 'patient_name': 'average_adolescent', 'sample_time': 3.0}\n",
      "info   {'time': datetime.datetime(2018, 1, 1, 6, 47), 'meal': 0, 'patient_name': 'average_adolescent', 'sample_time': 3.0}\n",
      "info   {'time': datetime.datetime(2018, 1, 1, 6, 50), 'meal': 0, 'patient_name': 'average_adolescent', 'sample_time': 3.0}\n",
      "info   {'time': datetime.datetime(2018, 1, 1, 6, 53), 'meal': 0, 'patient_name': 'average_adolescent', 'sample_time': 3.0}\n",
      "info   {'time': datetime.datetime(2018, 1, 1, 6, 56), 'meal': 0, 'patient_name': 'average_adolescent', 'sample_time': 3.0}\n",
      "info   {'time': datetime.datetime(2018, 1, 1, 6, 59), 'meal': 0, 'patient_name': 'average_adolescent', 'sample_time': 3.0}\n",
      "info   {'time': datetime.datetime(2018, 1, 1, 7, 2), 'meal': 0, 'patient_name': 'average_adolescent', 'sample_time': 3.0}\n",
      "info   {'time': datetime.datetime(2018, 1, 1, 7, 5), 'meal': 0, 'patient_name': 'average_adolescent', 'sample_time': 3.0}\n",
      "info   {'time': datetime.datetime(2018, 1, 1, 7, 8), 'meal': 0, 'patient_name': 'average_adolescent', 'sample_time': 3.0}\n",
      "info   {'time': datetime.datetime(2018, 1, 1, 7, 11), 'meal': 0, 'patient_name': 'average_adolescent', 'sample_time': 3.0}\n",
      "info   {'time': datetime.datetime(2018, 1, 1, 7, 14), 'meal': 0, 'patient_name': 'average_adolescent', 'sample_time': 3.0}\n",
      "info   {'time': datetime.datetime(2018, 1, 1, 7, 17), 'meal': 0, 'patient_name': 'average_adolescent', 'sample_time': 3.0}\n",
      "info   {'time': datetime.datetime(2018, 1, 1, 7, 20), 'meal': 0, 'patient_name': 'average_adolescent', 'sample_time': 3.0}\n",
      "info   {'time': datetime.datetime(2018, 1, 1, 7, 23), 'meal': 0, 'patient_name': 'average_adolescent', 'sample_time': 3.0}\n",
      "info   {'time': datetime.datetime(2018, 1, 1, 7, 26), 'meal': 0, 'patient_name': 'average_adolescent', 'sample_time': 3.0}\n",
      "info   {'time': datetime.datetime(2018, 1, 1, 7, 29), 'meal': 0, 'patient_name': 'average_adolescent', 'sample_time': 3.0}\n",
      "info   {'time': datetime.datetime(2018, 1, 1, 7, 32), 'meal': 0, 'patient_name': 'average_adolescent', 'sample_time': 3.0}\n",
      "info   {'time': datetime.datetime(2018, 1, 1, 7, 35), 'meal': 0, 'patient_name': 'average_adolescent', 'sample_time': 3.0}\n",
      "info   {'time': datetime.datetime(2018, 1, 1, 7, 38), 'meal': 0, 'patient_name': 'average_adolescent', 'sample_time': 3.0}\n",
      "info   {'time': datetime.datetime(2018, 1, 1, 7, 41), 'meal': 0, 'patient_name': 'average_adolescent', 'sample_time': 3.0}\n",
      "info   {'time': datetime.datetime(2018, 1, 1, 7, 44), 'meal': 0, 'patient_name': 'average_adolescent', 'sample_time': 3.0}\n",
      "info   {'time': datetime.datetime(2018, 1, 1, 7, 47), 'meal': 0, 'patient_name': 'average_adolescent', 'sample_time': 3.0}\n",
      "info   {'time': datetime.datetime(2018, 1, 1, 7, 50), 'meal': 0, 'patient_name': 'average_adolescent', 'sample_time': 3.0}\n",
      "info   {'time': datetime.datetime(2018, 1, 1, 7, 53), 'meal': 0, 'patient_name': 'average_adolescent', 'sample_time': 3.0}\n",
      "info   {'time': datetime.datetime(2018, 1, 1, 7, 56), 'meal': 0, 'patient_name': 'average_adolescent', 'sample_time': 3.0}\n",
      "info   {'time': datetime.datetime(2018, 1, 1, 7, 59), 'meal': 0, 'patient_name': 'average_adolescent', 'sample_time': 3.0}\n",
      "info   {'time': datetime.datetime(2018, 1, 1, 8, 2), 'meal': 0, 'patient_name': 'average_adolescent', 'sample_time': 3.0}\n",
      "info   {'time': datetime.datetime(2018, 1, 1, 8, 5), 'meal': 0, 'patient_name': 'average_adolescent', 'sample_time': 3.0}\n",
      "info   {'time': datetime.datetime(2018, 1, 1, 8, 8), 'meal': 0, 'patient_name': 'average_adolescent', 'sample_time': 3.0}\n",
      "info   {'time': datetime.datetime(2018, 1, 1, 8, 11), 'meal': 0, 'patient_name': 'average_adolescent', 'sample_time': 3.0}\n",
      "info   {'time': datetime.datetime(2018, 1, 1, 8, 14), 'meal': 0, 'patient_name': 'average_adolescent', 'sample_time': 3.0}\n",
      "info   {'time': datetime.datetime(2018, 1, 1, 8, 17), 'meal': 0, 'patient_name': 'average_adolescent', 'sample_time': 3.0}\n",
      "info   {'time': datetime.datetime(2018, 1, 1, 8, 20), 'meal': 0, 'patient_name': 'average_adolescent', 'sample_time': 3.0}\n",
      "info   {'time': datetime.datetime(2018, 1, 1, 8, 23), 'meal': 0, 'patient_name': 'average_adolescent', 'sample_time': 3.0}\n",
      "info   {'time': datetime.datetime(2018, 1, 1, 8, 26), 'meal': 0, 'patient_name': 'average_adolescent', 'sample_time': 3.0}\n",
      "info   {'time': datetime.datetime(2018, 1, 1, 8, 29), 'meal': 0, 'patient_name': 'average_adolescent', 'sample_time': 3.0}\n",
      "info   {'time': datetime.datetime(2018, 1, 1, 8, 32), 'meal': 0, 'patient_name': 'average_adolescent', 'sample_time': 3.0}\n",
      "info   {'time': datetime.datetime(2018, 1, 1, 8, 35), 'meal': 0, 'patient_name': 'average_adolescent', 'sample_time': 3.0}\n",
      "info   {'time': datetime.datetime(2018, 1, 1, 8, 38), 'meal': 0, 'patient_name': 'average_adolescent', 'sample_time': 3.0}\n",
      "info   {'time': datetime.datetime(2018, 1, 1, 8, 41), 'meal': 0, 'patient_name': 'average_adolescent', 'sample_time': 3.0}\n",
      "info   {'time': datetime.datetime(2018, 1, 1, 8, 44), 'meal': 0, 'patient_name': 'average_adolescent', 'sample_time': 3.0}\n",
      "info   {'time': datetime.datetime(2018, 1, 1, 8, 47), 'meal': 0, 'patient_name': 'average_adolescent', 'sample_time': 3.0}\n",
      "info   {'time': datetime.datetime(2018, 1, 1, 8, 50), 'meal': 0, 'patient_name': 'average_adolescent', 'sample_time': 3.0}\n",
      "info   {'time': datetime.datetime(2018, 1, 1, 8, 53), 'meal': 0, 'patient_name': 'average_adolescent', 'sample_time': 3.0}\n",
      "info   {'time': datetime.datetime(2018, 1, 1, 8, 56), 'meal': 0, 'patient_name': 'average_adolescent', 'sample_time': 3.0}\n",
      "info   {'time': datetime.datetime(2018, 1, 1, 8, 59), 'meal': 0, 'patient_name': 'average_adolescent', 'sample_time': 3.0}\n",
      "info   {'time': datetime.datetime(2018, 1, 1, 9, 2), 'meal': 0, 'patient_name': 'average_adolescent', 'sample_time': 3.0}\n",
      "info   {'time': datetime.datetime(2018, 1, 1, 9, 5), 'meal': 0, 'patient_name': 'average_adolescent', 'sample_time': 3.0}\n",
      "info   {'time': datetime.datetime(2018, 1, 1, 9, 8), 'meal': 0, 'patient_name': 'average_adolescent', 'sample_time': 3.0}\n",
      "info   {'time': datetime.datetime(2018, 1, 1, 9, 11), 'meal': 0, 'patient_name': 'average_adolescent', 'sample_time': 3.0}\n",
      "info   {'time': datetime.datetime(2018, 1, 1, 9, 14), 'meal': 0, 'patient_name': 'average_adolescent', 'sample_time': 3.0}\n",
      "info   {'time': datetime.datetime(2018, 1, 1, 9, 17), 'meal': 0, 'patient_name': 'average_adolescent', 'sample_time': 3.0}\n",
      "info   {'time': datetime.datetime(2018, 1, 1, 9, 20), 'meal': 0, 'patient_name': 'average_adolescent', 'sample_time': 3.0}\n",
      "info   {'time': datetime.datetime(2018, 1, 1, 9, 23), 'meal': 0, 'patient_name': 'average_adolescent', 'sample_time': 3.0}\n",
      "info   {'time': datetime.datetime(2018, 1, 1, 9, 26), 'meal': 0, 'patient_name': 'average_adolescent', 'sample_time': 3.0}\n",
      "info   {'time': datetime.datetime(2018, 1, 1, 9, 29), 'meal': 0, 'patient_name': 'average_adolescent', 'sample_time': 3.0}\n",
      "info   {'time': datetime.datetime(2018, 1, 1, 9, 32), 'meal': 0, 'patient_name': 'average_adolescent', 'sample_time': 3.0}\n",
      "info   {'time': datetime.datetime(2018, 1, 1, 9, 35), 'meal': 0, 'patient_name': 'average_adolescent', 'sample_time': 3.0}\n",
      "info   {'time': datetime.datetime(2018, 1, 1, 9, 38), 'meal': 0, 'patient_name': 'average_adolescent', 'sample_time': 3.0}\n",
      "info   {'time': datetime.datetime(2018, 1, 1, 9, 41), 'meal': 0, 'patient_name': 'average_adolescent', 'sample_time': 3.0}\n",
      "info   {'time': datetime.datetime(2018, 1, 1, 9, 44), 'meal': 0, 'patient_name': 'average_adolescent', 'sample_time': 3.0}\n",
      "info   {'time': datetime.datetime(2018, 1, 1, 9, 47), 'meal': 0, 'patient_name': 'average_adolescent', 'sample_time': 3.0}\n",
      "info   {'time': datetime.datetime(2018, 1, 1, 9, 50), 'meal': 0, 'patient_name': 'average_adolescent', 'sample_time': 3.0}\n",
      "info   {'time': datetime.datetime(2018, 1, 1, 9, 53), 'meal': 0, 'patient_name': 'average_adolescent', 'sample_time': 3.0}\n",
      "info   {'time': datetime.datetime(2018, 1, 1, 9, 56), 'meal': 0, 'patient_name': 'average_adolescent', 'sample_time': 3.0}\n",
      "info   {'time': datetime.datetime(2018, 1, 1, 9, 59), 'meal': 0, 'patient_name': 'average_adolescent', 'sample_time': 3.0}\n",
      "info   {'time': datetime.datetime(2018, 1, 1, 10, 2), 'meal': 0, 'patient_name': 'average_adolescent', 'sample_time': 3.0}\n",
      "info   {'time': datetime.datetime(2018, 1, 1, 10, 5), 'meal': 0, 'patient_name': 'average_adolescent', 'sample_time': 3.0}\n",
      "info   {'time': datetime.datetime(2018, 1, 1, 10, 8), 'meal': 0, 'patient_name': 'average_adolescent', 'sample_time': 3.0}\n",
      "info   {'time': datetime.datetime(2018, 1, 1, 10, 11), 'meal': 0, 'patient_name': 'average_adolescent', 'sample_time': 3.0}\n",
      "info   {'time': datetime.datetime(2018, 1, 1, 10, 14), 'meal': 0, 'patient_name': 'average_adolescent', 'sample_time': 3.0}\n",
      "info   {'time': datetime.datetime(2018, 1, 1, 10, 17), 'meal': 0, 'patient_name': 'average_adolescent', 'sample_time': 3.0}\n",
      "info   {'time': datetime.datetime(2018, 1, 1, 10, 20), 'meal': 0, 'patient_name': 'average_adolescent', 'sample_time': 3.0}\n",
      "info   {'time': datetime.datetime(2018, 1, 1, 10, 23), 'meal': 0, 'patient_name': 'average_adolescent', 'sample_time': 3.0}\n",
      "info   {'time': datetime.datetime(2018, 1, 1, 10, 26), 'meal': 0, 'patient_name': 'average_adolescent', 'sample_time': 3.0}\n",
      "info   {'time': datetime.datetime(2018, 1, 1, 10, 29), 'meal': 0, 'patient_name': 'average_adolescent', 'sample_time': 3.0}\n",
      "info   {'time': datetime.datetime(2018, 1, 1, 10, 32), 'meal': 0, 'patient_name': 'average_adolescent', 'sample_time': 3.0}\n",
      "info   {'time': datetime.datetime(2018, 1, 1, 10, 35), 'meal': 0, 'patient_name': 'average_adolescent', 'sample_time': 3.0}\n",
      "info   {'time': datetime.datetime(2018, 1, 1, 10, 38), 'meal': 0, 'patient_name': 'average_adolescent', 'sample_time': 3.0}\n",
      "info   {'time': datetime.datetime(2018, 1, 1, 10, 41), 'meal': 0, 'patient_name': 'average_adolescent', 'sample_time': 3.0}\n",
      "info   {'time': datetime.datetime(2018, 1, 1, 10, 44), 'meal': 0, 'patient_name': 'average_adolescent', 'sample_time': 3.0}\n",
      "info   {'time': datetime.datetime(2018, 1, 1, 10, 47), 'meal': 0, 'patient_name': 'average_adolescent', 'sample_time': 3.0}\n",
      "info   {'time': datetime.datetime(2018, 1, 1, 10, 50), 'meal': 0, 'patient_name': 'average_adolescent', 'sample_time': 3.0}\n",
      "info   {'time': datetime.datetime(2018, 1, 1, 10, 53), 'meal': 0, 'patient_name': 'average_adolescent', 'sample_time': 3.0}\n",
      "info   {'time': datetime.datetime(2018, 1, 1, 10, 56), 'meal': 0, 'patient_name': 'average_adolescent', 'sample_time': 3.0}\n",
      "info   {'time': datetime.datetime(2018, 1, 1, 10, 59), 'meal': 0, 'patient_name': 'average_adolescent', 'sample_time': 3.0}\n",
      "info   {'time': datetime.datetime(2018, 1, 1, 11, 2), 'meal': 0, 'patient_name': 'average_adolescent', 'sample_time': 3.0}\n",
      "info   {'time': datetime.datetime(2018, 1, 1, 11, 5), 'meal': 0, 'patient_name': 'average_adolescent', 'sample_time': 3.0}\n",
      "info   {'time': datetime.datetime(2018, 1, 1, 11, 8), 'meal': 0, 'patient_name': 'average_adolescent', 'sample_time': 3.0}\n",
      "Episode finished after 113 timesteps\n"
     ]
    },
    {
     "data": {
      "image/png": "[encoded data removed]",
      "text/plain": [
       "<Figure size 640x480 with 4 Axes>"
      ]
     },
     "metadata": {},
     "output_type": "display_data"
    }
   ],
   "source": [
    "observation, info = env.reset()\n",
    "for t in range(1000): # PAPER: While interval between meals < 5 hours\n",
    "    env.render(mode='human')   \n",
    "    action = agent.select_action(observation)\n",
    "    observation, reward, done, _, info = env.step(action)     \n",
    "    print('info  ', info)     \n",
    "    if done:         \n",
    "        print(\"Episode finished after {} timesteps\".format(t + 1))         \n",
    "        break"
   ]
  }
 ],
 "metadata": {
  "kernelspec": {
   "display_name": "Python 3.10.8 ('simgl')",
   "language": "python",
   "name": "python3"
  },
  "language_info": {
   "codemirror_mode": {
    "name": "ipython",
    "version": 3
   },
   "file_extension": ".py",
   "mimetype": "text/x-python",
   "name": "python",
   "nbconvert_exporter": "python",
   "pygments_lexer": "ipython3",
   "version": "3.10.8"
  },
  "orig_nbformat": 4,
  "vscode": {
   "interpreter": {
    "hash": "ca1511cbc7c6a502942e9cb53200d16513c9f9a44d4f6c4ce561ee70acb3611c"
   }
  }
 },
 "nbformat": 4,
 "nbformat_minor": 2
}
