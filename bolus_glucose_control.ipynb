{
 "cells": [
  {
   "cell_type": "markdown",
   "metadata": {},
   "source": [
    "## Bolus Glucose Control in Type 1 Diabetes Using Deep Reinforcement Learning\n",
    "Raphael Joost, 18-???-??? & Yanis Schärer, 18-114-058"
   ]
  },
  {
   "cell_type": "markdown",
   "metadata": {},
   "source": [
    "### Implementing a Deep Deterministic Policy Gradient (DDPG) agent\n"
   ]
  },
  {
   "cell_type": "code",
   "execution_count": 2,
   "metadata": {},
   "outputs": [
    {
     "name": "stderr",
     "output_type": "stream",
     "text": [
      "C:\\Users\\yanis\\AppData\\Roaming\\Python\\Python310\\site-packages\\tqdm\\auto.py:22: TqdmWarning: IProgress not found. Please update jupyter and ipywidgets. See https://ipywidgets.readthedocs.io/en/stable/user_install.html\n",
      "  from .autonotebook import tqdm as notebook_tqdm\n"
     ]
    }
   ],
   "source": [
    "import numpy as np\n",
    "import torch as th\n",
    "import torch.nn.functional as F\n",
    "from copy import deepcopy\n",
    "from datetime import datetime\n",
    "import simglucose\n",
    "import gym\n",
    "from gym.wrappers import FlattenObservation\n",
    "from tqdm import tqdm\n",
    "import os"
   ]
  },
  {
   "cell_type": "code",
   "execution_count": 3,
   "metadata": {},
   "outputs": [],
   "source": [
    "# Define Replay Buffer\n",
    "class ReplayBuffer:\n",
    "    def __init__(self, state_dim, action_dim, device=th.device('cuda' if th.cuda.is_available() else 'cpu'), max_size=500):\n",
    "        self.device = device\n",
    "        self.max_size = max_size\n",
    "        self.size = 0\n",
    "        self.ptr = 0\n",
    "        self.state_buffer = np.zeros((max_size, state_dim))\n",
    "        self.action_buffer = np.zeros((max_size, action_dim))\n",
    "        self.next_state_buffer = np.zeros((max_size, state_dim))\n",
    "        self.reward_buffer = np.zeros((max_size, 1))\n",
    "        self.done_buffer = np.zeros((max_size, 1))\n",
    "\n",
    "    def store(self, state, action, reward, next_state, done):\n",
    "        self.state_buffer[self.ptr] = state\n",
    "        self.action_buffer[self.ptr] = action\n",
    "        self.next_state_buffer[self.ptr] = next_state\n",
    "        self.reward_buffer[self.ptr] = reward\n",
    "        self.done_buffer[self.ptr] = done\n",
    "        self.ptr = (self.ptr + 1) % self.max_size\n",
    "        self.size = min(self.size + 1, self.max_size)\n",
    "\n",
    "\n",
    "    def sample(self, batch_size):\n",
    "        idx = np.random.randint(0, self.size, size=batch_size)\n",
    "        return (\n",
    "            th.tensor(self.state_buffer[idx], dtype=th.float32).to(self.device),\n",
    "            th.tensor(self.action_buffer[idx], dtype=th.float32).to(self.device),\n",
    "            th.tensor(self.reward_buffer[idx], dtype=th.float32).to(self.device),\n",
    "            th.tensor(self.next_state_buffer[idx], dtype=th.float32).to(self.device),\n",
    "            th.tensor(self.done_buffer[idx], dtype=th.float32).to(self.device)\n",
    "        )"
   ]
  },
  {
   "cell_type": "code",
   "execution_count": 4,
   "metadata": {},
   "outputs": [],
   "source": [
    "# Define Actor and Critic networks\n",
    "class Actor(th.nn.Module): # state -> action\n",
    "    def __init__(self, state_dim, action_dim):\n",
    "        super(Actor, self).__init__()\n",
    "        self.l1 = th.nn.Linear(state_dim, 200)\n",
    "        self.l2 = th.nn.Linear(200, 200)\n",
    "        self.l3 = th.nn.Linear(200, 10)\n",
    "        self.l4 = th.nn.Linear(10, action_dim)\n",
    "\n",
    "    def forward(self, state):\n",
    "        a = F.relu(self.l1(state))\n",
    "        a = F.relu(self.l2(a))\n",
    "        a = F.relu(self.l3(a))\n",
    "        a = th.sigmoid(self.l4(a))\n",
    "        return 1.8 * a + 0.2 # scale to [0.2, 2.0]\n",
    "\n",
    "class Critic(th.nn.Module): # state + action -> Q(s,a) (Q-Network)\n",
    "    def __init__(self, state_dimension, action_dimension):\n",
    "        super(Critic, self).__init__()\n",
    "        self.l1 = th.nn.Linear(state_dimension + action_dimension, 200)\n",
    "        self.l2 = th.nn.Linear(200, 200)\n",
    "        self.l3 = th.nn.Linear(200, 10)\n",
    "        self.l4 = th.nn.Linear(10, 1)\n",
    "\n",
    "    def forward(self, state, action):\n",
    "        q = F.relu(self.l1(th.cat([state, action], 1)))\n",
    "        q = F.relu(self.l2(q))\n",
    "        q = F.relu(self.l3(q))\n",
    "        q = self.l4(q)\n",
    "        return q"
   ]
  },
  {
   "cell_type": "code",
   "execution_count": 5,
   "metadata": {},
   "outputs": [],
   "source": [
    "# Define DDPG Agent\n",
    "class DDPGAgent(object):\n",
    "    def __init__(self, env, device=th.device('cuda' if th.cuda.is_available() else 'cpu'), discount=0.9, tau=0.01):\n",
    "        self.env = env\n",
    "        self.state_dim = env.observation_space.shape[0]\n",
    "        self.action_dim = env.action_space.shape[0]\n",
    "        self.device = device\n",
    "        self.discount = discount\n",
    "        self.tau = tau\n",
    "        # Actor and Actor target\n",
    "        self.actor = Actor(self.state_dim, self.action_dim).to(device)\n",
    "        self.actor_optimizer = th.optim.Adam(self.actor.parameters(), lr=1e-4)\n",
    "        self.actor_target = deepcopy(self.actor)\n",
    "        # Critic and Critic target\n",
    "        self.critic = Critic(self.state_dim, self.action_dim).to(device)\n",
    "        self.critic_optimizer = th.optim.Adam(self.critic.parameters(), lr=1e-4)\n",
    "        self.critic_target = deepcopy(self.critic)\n",
    "        # Replay buffer\n",
    "        self.replay_buffer = ReplayBuffer(self.state_dim, self.action_dim, self.device)\n",
    "\n",
    "    def save_agent(self, path='agent_state'):\n",
    "        models = [self.actor, self.actor_target, self.actor_optimizer, self.critic, self.critic_target, self.critic_optimizer]\n",
    "        fnames = ['actor', 'actor_target', 'actor_optimizer', 'critic', 'critic_target', 'critic_optimizer']\n",
    "        if not os.path.exists(path):\n",
    "            os.makedirs(path)\n",
    "        for m, f in zip(models, fnames):\n",
    "            th.save(m.state_dict(), os.path.join(path, f+'.pt'))\n",
    "        print(f'Agent saved to folder {path}')\n",
    "\n",
    "    def load_agent(self, path='agent_state'):\n",
    "        models = [self.actor, self.actor_target, self.actor_optimizer, self.critic, self.critic_target, self.critic_optimizer]\n",
    "        fnames = ['actor', 'actor_target', 'actor_optimizer', 'critic', 'critic_target', 'critic_optimizer']\n",
    "        for m, f in zip(models, fnames):\n",
    "            m = th.load(os.path.join(path, f+'.pt'))\n",
    "        print(f'Agent loaded from folder {path}')\n",
    "    \n",
    "    def soft_update(self):\n",
    "        for target_param, local_param in zip(self.actor_target.parameters(), self.actor.parameters()):\n",
    "            target_param.data.copy_(self.tau * local_param.data + (1.0 - self.tau) * target_param.data)\n",
    "        for target_param, local_param in zip(self.critic_target.parameters(), self.critic.parameters()):\n",
    "            target_param.data.copy_(self.tau * local_param.data + (1.0 - self.tau) * target_param.data)\n",
    "\n",
    "    def select_action(self, state): # Actor selects action based on current state\n",
    "        return self.actor(th.tensor(state, dtype=th.float32).to(self.device)).detach().cpu().numpy()\n",
    "\n",
    "    def train(self, batch_size=32, target_update_period=10, max_iter=10000, max_patience=200):\n",
    "        CHO_idx = int(2*self.state_dim/3 - 1)\n",
    "        critic_training_loss = []\n",
    "        min_critic_loss = float('inf')\n",
    "        patience = max_patience\n",
    "        for it in tqdm(range(max_iter)):\n",
    "            # Sample one episode and add it to the replay buffer\n",
    "            state, info = self.env.reset()\n",
    "            reset_time = info['time']\n",
    "            done = False\n",
    "            last_meal = state[CHO_idx] # XXX\n",
    "            while not done and (info['time'] - reset_time).days < 4: # 4 days\n",
    "                if last_meal > state[CHO_idx]: # First step after meal\n",
    "                    print('Bolus Injection!')\n",
    "                    start_state = state\n",
    "                    start_time = info['time']\n",
    "                    noise = np.random.normal(0, 0.3, (3,))\n",
    "                    bolus_action = self.select_action(start_state) + noise\n",
    "                    last_meal = state[CHO_idx] #### XXX\n",
    "                    state, reward, done, _, info = self.env.step(bolus_action)\n",
    "                    reward_sum = reward\n",
    "                    while not done and state[CHO_idx] == 0 and (info['time'] - start_time).total_seconds() < 5*3600:\n",
    "                        action = [0, 0, 0]\n",
    "                        last_meal = state[CHO_idx] #### XXX\n",
    "                        state, reward, done, _, info = self.env.step(action)\n",
    "                        reward_sum += reward\n",
    "                    reward_sum /= (info['time'] - start_time).total_seconds() / 60\n",
    "                    next_state = state\n",
    "                    self.replay_buffer.store(start_state, bolus_action, reward_sum, next_state, done)\n",
    "                    print(f'Episode (reward: {reward_sum}) stored to memory ({self.replay_buffer.size})')\n",
    " \n",
    "                else:\n",
    "                    action = [0, 0, 0]\n",
    "                    last_meal = state[CHO_idx] #### XXX\n",
    "                    state, _, done, _, info = self.env.step(action)\n",
    "\n",
    "                \n",
    "            \n",
    "            if self.replay_buffer.size >= batch_size:\n",
    "                print('Training...')\n",
    "                # Sample replay buffer\n",
    "                states, actions, rewards, next_states, dones = self.replay_buffer.sample(batch_size)\n",
    "                # Compute the target Q value\n",
    "                target_q = self.critic_target(next_states, self.actor_target(next_states))\n",
    "                target_q = rewards + (self.discount * target_q).detach()\n",
    "                # target_q = rewards + ((not dones) * self.discount * target_q).detach() # XXX: ?????????????\n",
    "                # Get current Q estimate\n",
    "                current_q = self.critic(states, actions)\n",
    "                # Compute critic loss\n",
    "                critic_loss = F.mse_loss(current_q, target_q)\n",
    "                # Optimize the critic\n",
    "                self.critic_optimizer.zero_grad()\n",
    "                critic_loss.backward()\n",
    "                self.critic_optimizer.step()\n",
    "                # Compute actor loss\n",
    "                actor_loss = -self.critic(states, self.actor(states)).mean()\n",
    "                # Optimize the actor\n",
    "                self.actor_optimizer.zero_grad()\n",
    "                actor_loss.backward()\n",
    "                self.actor_optimizer.step()\n",
    "                # Save training loss   \n",
    "                if critic_loss < min_critic_loss:\n",
    "                    self.save_agent()\n",
    "                    min_critic_loss = critic_loss\n",
    "                    patience = max_patience\n",
    "                critic_training_loss.append([critic_loss.item(), actor_loss.item()])\n",
    "                \n",
    "                # Update target networks\n",
    "                if it % target_update_period == 0:\n",
    "                    self.soft_update()\n",
    "\n",
    "                if it % 5 == 0:\n",
    "                    print(f'Iteration: {it+1}, Critic loss: {critic_loss.item():.3f} (min: {min_critic_loss:.3f}), Patience left: {patience}')\n",
    "\n",
    "                # Convergence check\n",
    "                patience -= 1\n",
    "                if patience == 0:\n",
    "                    print('Critic converged...')\n",
    "                    break\n",
    "\n",
    "        return critic_training_loss\n",
    "\n",
    "    def finetune():\n",
    "        pass"
   ]
  },
  {
   "cell_type": "code",
   "execution_count": 6,
   "metadata": {},
   "outputs": [],
   "source": [
    "# Define reward function based on paper\n",
    "def custom_reward(BG_history):\n",
    "    BG = BG_history[-1]\n",
    "    # BG: blood glucose level\n",
    "    # Hypoglycemia: BG < 70 mg/dL\n",
    "    if 30 <= BG and BG < 70:\n",
    "        return -1.5\n",
    "    # Normoglycemia: 70 mg/dL < BG < 180 mg/dL\n",
    "    elif 70 <= BG and BG <= 180:\n",
    "        return 0.5\n",
    "    # Hyperglycemia: BG > 180 mg/dL\n",
    "    elif 180 < BG and BG <= 300:\n",
    "        return -0.8\n",
    "    elif 300 < BG and BG <= 350:\n",
    "        return -1\n",
    "    # Other cases\n",
    "    else:\n",
    "        return -2"
   ]
  },
  {
   "cell_type": "markdown",
   "metadata": {},
   "source": [
    "### Linking the DDPG agent to the OpenAI Gym environment"
   ]
  },
  {
   "cell_type": "code",
   "execution_count": 7,
   "metadata": {},
   "outputs": [],
   "source": [
    "from simglucose.simulation.scenario_gen import RandomScenario\n",
    "\n",
    "history_length = 6\n",
    "\n",
    "gym.envs.register(\n",
    "    id='simglucose-bolus',\n",
    "    entry_point='simglucose.envs:T1DSimEnvBolus',\n",
    "    kwargs={'patient_name': ['average_adolescent'],\n",
    "        'history_length': history_length, 'reward_fun': custom_reward,\n",
    "        'enable_meal': True})"
   ]
  },
  {
   "cell_type": "code",
   "execution_count": 8,
   "metadata": {},
   "outputs": [
    {
     "name": "stdout",
     "output_type": "stream",
     "text": [
      "Dict('CGM': Box(0.0, 10000.0, (6,), float32), 'CHO': Box(0.0, 10000.0, (6,), float32), 'insulin': Box(0.0, 10000.0, (6,), float32))\n",
      "Box(0.2, 2.0, (3,), float32)\n"
     ]
    }
   ],
   "source": [
    "env = gym.make('simglucose-bolus')\n",
    "print(env.observation_space)\n",
    "print(env.action_space)"
   ]
  },
  {
   "cell_type": "code",
   "execution_count": 13,
   "metadata": {},
   "outputs": [],
   "source": [
    "env = FlattenObservation(env)\n",
    "agent = DDPGAgent(env=env)"
   ]
  },
  {
   "cell_type": "code",
   "execution_count": 15,
   "metadata": {},
   "outputs": [
    {
     "name": "stdout",
     "output_type": "stream",
     "text": [
      "Agent loaded from folder agent_state\n",
      "[1.30188416e+02 1.30685074e+02 1.31730133e+02 1.32974380e+02\n",
      " 1.34275833e+02 1.37318542e+02 3.97088003e+00 3.97088003e+00\n",
      " 3.97088003e+00 3.97088003e+00 3.97088003e+00 0.00000000e+00\n",
      " 1.28241135e-02 1.28241135e-02 1.28241135e-02 1.28241135e-02\n",
      " 1.28241135e-02 1.28241135e-02]\n",
      "Bolus injection!\n",
      "[0.53411174 0.58995456 0.2585342 ]\n",
      "[ 1.65453331 -0.13510257  0.        ]\n",
      "[1.51179810e+02 1.53022873e+02 1.54295822e+02 1.55243576e+02\n",
      " 1.56295990e+02 1.57960327e+02 7.94177771e+00 7.94177771e+00\n",
      " 7.94177771e+00 7.94177771e+00 7.94177771e+00 0.00000000e+00\n",
      " 1.28241135e-02 1.28241135e-02 1.28241135e-02 1.28241135e-02\n",
      " 1.28241135e-02 1.28241135e-02]\n",
      "Bolus injection!\n",
      "[0.4910323  0.55126685 0.23535416]\n",
      "[ 3.30907405  0.90491297 -0.        ]\n",
      "Episode finished after 355 timesteps\n"
     ]
    },
    {
     "data": {
      "image/png": "[encoded data removed]",
      "text/plain": [
       "<Figure size 640x480 with 4 Axes>"
      ]
     },
     "metadata": {},
     "output_type": "display_data"
    }
   ],
   "source": [
    "agent.load_agent()\n",
    "\n",
    "observation, info = env.reset()\n",
    "last_meal = 0\n",
    "for t in range(1000):\n",
    "    env.render(mode='human')\n",
    "    if last_meal > observation[11]:\n",
    "        print(observation)\n",
    "        action = agent.select_action(observation)\n",
    "        print('Bolus injection!')\n",
    "        print(action)\n",
    "    else:\n",
    "        action = [0, 0, 0]\n",
    "    last_meal = observation[11]\n",
    "    observation, reward, done, _, info = env.step(action)  \n",
    "    # print('info  ', info)     \n",
    "    # print('CHO   ', observation[11])\n",
    "    print(f'Still alive {t}', end='\\r')\n",
    "    if done:         \n",
    "        print(\"Episode finished after {} timesteps\".format(t + 1))\n",
    "\n",
    "        break"
   ]
  }
 ],
 "metadata": {
  "kernelspec": {
   "display_name": "Python 3.10.8 ('simgl')",
   "language": "python",
   "name": "python3"
  },
  "language_info": {
   "codemirror_mode": {
    "name": "ipython",
    "version": 3
   },
   "file_extension": ".py",
   "mimetype": "text/x-python",
   "name": "python",
   "nbconvert_exporter": "python",
   "pygments_lexer": "ipython3",
   "version": "3.10.8"
  },
  "orig_nbformat": 4,
  "vscode": {
   "interpreter": {
    "hash": "ca1511cbc7c6a502942e9cb53200d16513c9f9a44d4f6c4ce561ee70acb3611c"
   }
  }
 },
 "nbformat": 4,
 "nbformat_minor": 2
}
