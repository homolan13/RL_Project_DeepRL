{
 "cells": [
  {
   "cell_type": "markdown",
   "metadata": {},
   "source": [
    "# Course Project\n",
    "## Bolus Glucose Control in Type 1 Diabetes Using Deep Reinforcement Learning\n",
    "#### Raphael Joost & Yanis Schärer"
   ]
  },
  {
   "cell_type": "code",
   "execution_count": null,
   "metadata": {},
   "outputs": [],
   "source": [
    "# DDPG algorithm for glucose control\n",
    "\n",
    "E_a = ... # Average Environment\n",
    "E_i = ... # Individual Environment\n",
    "C = ... # Safety Constraint\n",
    "T = ... # Update period\n",
    "\n",
    "\n",
    "# Initialize weights for Q network and policy network\n",
    "# Initialize C, E_D = E_a\n",
    "\n",
    "# Copy weights from Q network and policy network to target Q network and target policy network, respectively\n",
    "\n",
    "# Initialize replay buffer\n",
    "\n",
    "while ...: # Until loss of Q network converges\n",
    "    # Observe state s_t from E and select action a_t from policy network + N\n",
    "    # Execute action a_t (subject to C) and observe reward r_t and next state s_t+1 from E\n",
    "    # Store transition (s_t, a_t, r_t, s_t+1) in replay buffer\n",
    "    # Sample a batch of transitions from replay buffer by priority P_r\n",
    "    # Calculate loss of critic and update Q network with importance weights w\n",
    "    # Calculate TD error, update P_r and w\n",
    "    # Perform gradient descent to update policy network\n",
    "    # If t mod T == 0: update target Q network and target policy network\n",
    "    pass"
   ]
  }
 ],
 "metadata": {
  "kernelspec": {
   "display_name": "Python 3.10.8 ('rl')",
   "language": "python",
   "name": "python3"
  },
  "language_info": {
   "codemirror_mode": {
    "name": "ipython",
    "version": 3
   },
   "file_extension": ".py",
   "mimetype": "text/x-python",
   "name": "python",
   "nbconvert_exporter": "python",
   "pygments_lexer": "ipython3",
   "version": "3.10.8"
  },
  "orig_nbformat": 4,
  "vscode": {
   "interpreter": {
    "hash": "362460f2204f0406e663750cba4e7c84597df365884d41ed13c51949e389925d"
   }
  }
 },
 "nbformat": 4,
 "nbformat_minor": 2
}
